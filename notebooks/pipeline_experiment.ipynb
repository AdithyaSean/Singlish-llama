{
 "cells": [
  {
   "cell_type": "code",
   "execution_count": 1,
   "metadata": {},
   "outputs": [
    {
     "data": {
      "application/vnd.jupyter.widget-view+json": {
       "model_id": "e2654eb5e5374dc48a4312fe8f3b8d86",
       "version_major": 2,
       "version_minor": 0
      },
      "text/plain": [
       "Map:   0%|          | 0/40 [00:00<?, ? examples/s]"
      ]
     },
     "metadata": {},
     "output_type": "display_data"
    },
    {
     "ename": "TypeError",
     "evalue": "get_peft_model() got an unexpected keyword argument 'quantization_config'",
     "output_type": "error",
     "traceback": [
      "\u001b[0;31m---------------------------------------------------------------------------\u001b[0m",
      "\u001b[0;31mTypeError\u001b[0m                                 Traceback (most recent call last)",
      "Cell \u001b[0;32mIn[1], line 53\u001b[0m\n\u001b[1;32m     44\u001b[0m peft_config \u001b[38;5;241m=\u001b[39m LoraConfig(\n\u001b[1;32m     45\u001b[0m     r\u001b[38;5;241m=\u001b[39m\u001b[38;5;241m8\u001b[39m,  \u001b[38;5;66;03m# Rank of the low-rank adaptation\u001b[39;00m\n\u001b[1;32m     46\u001b[0m     lora_alpha\u001b[38;5;241m=\u001b[39m\u001b[38;5;241m32\u001b[39m,  \u001b[38;5;66;03m# Scaling factor for the low-rank adaptation\u001b[39;00m\n\u001b[0;32m   (...)\u001b[0m\n\u001b[1;32m     49\u001b[0m     bias\u001b[38;5;241m=\u001b[39m\u001b[38;5;124m\"\u001b[39m\u001b[38;5;124mnone\u001b[39m\u001b[38;5;124m\"\u001b[39m\n\u001b[1;32m     50\u001b[0m )\n\u001b[1;32m     52\u001b[0m \u001b[38;5;66;03m# Load the PEFT model\u001b[39;00m\n\u001b[0;32m---> 53\u001b[0m peft_model \u001b[38;5;241m=\u001b[39m \u001b[43mget_peft_model\u001b[49m\u001b[43m(\u001b[49m\u001b[43mmodel\u001b[49m\u001b[38;5;241;43m=\u001b[39;49m\u001b[43mmodel_name\u001b[49m\u001b[43m,\u001b[49m\u001b[43m \u001b[49m\u001b[43mpeft_config\u001b[49m\u001b[38;5;241;43m=\u001b[39;49m\u001b[43mpeft_config\u001b[49m\u001b[43m,\u001b[49m\u001b[43m \u001b[49m\u001b[43mquantization_config\u001b[49m\u001b[38;5;241;43m=\u001b[39;49m\u001b[43mquant_config\u001b[49m\u001b[43m)\u001b[49m\u001b[38;5;241m.\u001b[39mto(device)\n\u001b[1;32m     55\u001b[0m \u001b[38;5;66;03m# Trainer configuration\u001b[39;00m\n\u001b[1;32m     56\u001b[0m trainer \u001b[38;5;241m=\u001b[39m Trainer(\n\u001b[1;32m     57\u001b[0m     model\u001b[38;5;241m=\u001b[39mpeft_model,\n\u001b[1;32m     58\u001b[0m     args\u001b[38;5;241m=\u001b[39mTrainingArguments(\n\u001b[0;32m   (...)\u001b[0m\n\u001b[1;32m     73\u001b[0m     eval_dataset\u001b[38;5;241m=\u001b[39mtokenized_datasets[\u001b[38;5;124m\"\u001b[39m\u001b[38;5;124mvalidation\u001b[39m\u001b[38;5;124m\"\u001b[39m],\n\u001b[1;32m     74\u001b[0m )\n",
      "\u001b[0;31mTypeError\u001b[0m: get_peft_model() got an unexpected keyword argument 'quantization_config'"
     ]
    }
   ],
   "source": [
    "# Install necessary libraries and modules\n",
    "from transformers import AutoModelForCausalLM, AutoTokenizer, Trainer, TrainingArguments, BitsAndBytesConfig\n",
    "from peft import get_peft_model, LoraConfig\n",
    "import torch\n",
    "from datasets import load_dataset\n",
    " \n",
    "# Load the dataset\n",
    "dataset = load_dataset('json', data_files={\n",
    "    'train': '/home/rox/datasets/singlish/singlish_training_dataset2.jsonl',\n",
    "    'validation': '/home/rox/datasets/singlish/singlish_validation_dataset2.jsonl'\n",
    "})\n",
    "\n",
    "# Define the model name\n",
    "model_name = \"/home/rox/llama-singlish/\"\n",
    " \n",
    "# Check if CUDA is available and set the device\n",
    "device = torch.device(\"cuda\" if torch.cuda.is_available() else \"cpu\")\n",
    "\n",
    "# Clear CUDA cache\n",
    "if (device == \"cuda\") :\n",
    "    torch.cuda.empty_cache()\n",
    " \n",
    "# Load the tokenizer\n",
    "tokenizer = AutoTokenizer.from_pretrained(\"/home/rox/llama-singlish/\")\n",
    " \n",
    "# Set the padding token\n",
    "if tokenizer.pad_token is None:\n",
    "    tokenizer.pad_token = tokenizer.eos_token\n",
    " \n",
    "# Tokenize the dataset\n",
    "def tokenize_function(examples):\n",
    "    # Use \"longest\" to dynamically pad to the longest sequence in each batch\n",
    "    return tokenizer(examples[\"text\"], padding=\"longest\", truncation=True)\n",
    " \n",
    "# Apply tokenization\n",
    "tokenized_datasets = dataset.map(tokenize_function, batched=True)\n",
    " \n",
    "# Configure quantization\n",
    "quant_config = BitsAndBytesConfig(\n",
    "    load_in_8bit=True  # Use 8-bit quantization\n",
    ")\n",
    " \n",
    "# Configure the PEFT model\n",
    "peft_config = LoraConfig(\n",
    "    r=8,  # Rank of the low-rank adaptation\n",
    "    lora_alpha=32,  # Scaling factor for the low-rank adaptation\n",
    "    target_modules=[\"q_proj\", \"v_proj\"],  # Make sure these are valid for LLaMA 3.1\n",
    "    lora_dropout=0.1,  # Dropout rate for LoRA\n",
    "    bias=\"none\"\n",
    ")\n",
    "\n",
    "# Load the PEFT model\n",
    "peft_model = get_peft_model(model=model_name, peft_config=peft_config, quantization_config=quant_config).to(device)\n",
    " \n",
    "# Trainer configuration\n",
    "trainer = Trainer(\n",
    "    model=peft_model,\n",
    "    args=TrainingArguments(\n",
    "        output_dir=\"./output\",\n",
    "        num_train_epochs=10,\n",
    "        per_device_train_batch_size=2,  # Reduce batch size\n",
    "        per_device_eval_batch_size=2,  # Reduce batch size\n",
    "        gradient_accumulation_steps=2,  # Accumulate gradients over 2 steps\n",
    "        warmup_steps=500,\n",
    "        weight_decay=0.01,\n",
    "        logging_dir=\"./logs\",\n",
    "        remove_unused_columns=False,\n",
    "        fp16=True,  # Use mixed precision training\n",
    "        dataloader_num_workers=2,  # Number of subprocesses to use for data loading\n",
    "        torch_compile=True,  # Enable TorchScript compilation\n",
    "    ),\n",
    "    train_dataset=tokenized_datasets[\"train\"],\n",
    "    eval_dataset=tokenized_datasets[\"validation\"],\n",
    ")\n",
    " \n",
    "# Start training\n",
    "trainer.train()"
   ]
  }
 ],
 "metadata": {
  "kernelspec": {
   "display_name": "Python 3",
   "language": "python",
   "name": "python3"
  },
  "language_info": {
   "codemirror_mode": {
    "name": "ipython",
    "version": 3
   },
   "file_extension": ".py",
   "mimetype": "text/x-python",
   "name": "python",
   "nbconvert_exporter": "python",
   "pygments_lexer": "ipython3",
   "version": "3.11.0"
  }
 },
 "nbformat": 4,
 "nbformat_minor": 2
}
